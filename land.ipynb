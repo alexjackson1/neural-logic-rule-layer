{
 "cells": [
  {
   "cell_type": "code",
   "execution_count": 1,
   "metadata": {},
   "outputs": [
    {
     "data": {
      "text/plain": [
       "tensor([[ 0.4299, -0.1861,  0.2887],\n",
       "        [ 0.3341, -0.2337, -0.1453]])"
      ]
     },
     "execution_count": 1,
     "metadata": {},
     "output_type": "execute_result"
    }
   ],
   "source": [
    "import torch\n",
    "from nlrl import NeuralLogicRuleLayer\n",
    "\n",
    "i, j = 2, 3\n",
    "\n",
    "GR = torch.empty((i, j)).uniform_(-0.5, 0.5)\n",
    "GR"
   ]
  },
  {
   "cell_type": "code",
   "execution_count": 2,
   "metadata": {},
   "outputs": [
    {
     "name": "stdout",
     "output_type": "stream",
     "text": [
      "log_x.shape       torch.Size([2, 3])\n",
      "log_x             tensor([[-1.5449, -0.0232, -0.9403],\n",
      "        [-0.2034, -0.7520, -5.3800]])\n"
     ]
    }
   ],
   "source": [
    "x = torch.empty((i, j)).uniform_(0, 1)\n",
    "log_x = torch.log(x + 1e-6)\n",
    "print(\"log_x.shape      \", log_x.shape)\n",
    "print(\"log_x            \", log_x)\n"
   ]
  },
  {
   "cell_type": "code",
   "execution_count": 3,
   "metadata": {},
   "outputs": [
    {
     "name": "stdout",
     "output_type": "stream",
     "text": [
      "sGR.shape         torch.Size([2, 3])\n",
      "sGR               tensor([[0.6058, 0.4536, 0.5717],\n",
      "        [0.5828, 0.4419, 0.4637]])\n"
     ]
    }
   ],
   "source": [
    "sGR = torch.sigmoid(GR)\n",
    "print(\"sGR.shape        \", sGR.shape)\n",
    "print(\"sGR              \", sGR)\n"
   ]
  },
  {
   "cell_type": "code",
   "execution_count": 4,
   "metadata": {},
   "outputs": [
    {
     "name": "stdout",
     "output_type": "stream",
     "text": [
      "GRlog_x.shape  torch.Size([3])\n",
      "GRlog_x       tensor([-1.0545, -0.3428, -3.0324])\n"
     ]
    }
   ],
   "source": [
    "GRlog_x = (torch.sigmoid(GR) * log_x).sum(dim=-2)\n",
    "print(\"GRlog_x.shape \", GRlog_x.shape)\n",
    "print(\"GRlog_x      \", GRlog_x)\n",
    "\n"
   ]
  },
  {
   "cell_type": "code",
   "execution_count": 5,
   "metadata": {},
   "outputs": [
    {
     "name": "stdout",
     "output_type": "stream",
     "text": [
      "exp_GRlog_x.shape  torch.Size([3])\n",
      "exp_GRlog_x       tensor([0.3484, 0.7098, 0.0482])\n"
     ]
    }
   ],
   "source": [
    "exp_GRlog_x = torch.exp(GRlog_x)\n",
    "print(\"exp_GRlog_x.shape \", exp_GRlog_x.shape)\n",
    "print(\"exp_GRlog_x      \", exp_GRlog_x)\n",
    "\n"
   ]
  },
  {
   "cell_type": "code",
   "execution_count": 6,
   "metadata": {},
   "outputs": [
    {
     "name": "stdout",
     "output_type": "stream",
     "text": [
      "GR[0]        tensor([ 0.4299, -0.1861,  0.2887])\n",
      "x[:, 0]      tensor([0.2133, 0.8160])\n"
     ]
    },
    {
     "data": {
      "text/plain": [
       "tensor([0.3484, 0.7098, 0.0482])"
      ]
     },
     "execution_count": 6,
     "metadata": {},
     "output_type": "execute_result"
    }
   ],
   "source": [
    "print(\"GR[0]       \", GR[0])\n",
    "print(\"x[:, 0]     \", x[:, 0])\n",
    "torch.pow(x[0, :] + 1e-6, torch.sigmoid(GR[0])) * torch.pow(\n",
    "    x[1, :] + 1e-6, torch.sigmoid(GR[1])\n",
    ")"
   ]
  },
  {
   "cell_type": "code",
   "execution_count": 7,
   "metadata": {},
   "outputs": [
    {
     "name": "stdout",
     "output_type": "stream",
     "text": [
      "tensor([0.3484, 0.7098, 0.0482], grad_fn=<ExpBackward0>)\n"
     ]
    }
   ],
   "source": [
    "layer = NeuralLogicRuleLayer(i, j)\n",
    "layer.GR = torch.nn.Parameter(GR)\n",
    "\n",
    "print(layer.conjunction(x))"
   ]
  }
 ],
 "metadata": {
  "kernelspec": {
   "display_name": "env",
   "language": "python",
   "name": "python3"
  },
  "language_info": {
   "codemirror_mode": {
    "name": "ipython",
    "version": 3
   },
   "file_extension": ".py",
   "mimetype": "text/x-python",
   "name": "python",
   "nbconvert_exporter": "python",
   "pygments_lexer": "ipython3",
   "version": "3.10.14"
  }
 },
 "nbformat": 4,
 "nbformat_minor": 2
}
